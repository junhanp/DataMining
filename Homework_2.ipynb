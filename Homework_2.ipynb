{
 "cells": [
  {
   "cell_type": "markdown",
   "metadata": {},
   "source": [
    "# Junhan Pang, Jpang2@student.gsu.edu and Panther ID"
   ]
  },
  {
   "cell_type": "markdown",
   "metadata": {},
   "source": [
    "## Question 1 [5 Pts]\n",
    "\n",
    " What is Unsupervised Learning and difficulties involved in unsupervied Learning and name a few unsupervised algorithms ? "
   ]
  },
  {
   "cell_type": "markdown",
   "metadata": {},
   "source": [
    "### Solution"
   ]
  },
  {
   "cell_type": "markdown",
   "metadata": {},
   "source": [
    "Unsupervised Learning is without labels, it would be hard to separate the data, algorithms of unsupervised learning would be: K-Means, Hierarchical, Gaussian Mixture, Hidden Markov Model, and Neural Networks."
   ]
  },
  {
   "cell_type": "markdown",
   "metadata": {},
   "source": [
    "## Question 2 [5 Pts]\n",
    "\n",
    " What is a PCA [Principal Component Analysis] and When to use PCA [Principal Component Analysis] ? "
   ]
  },
  {
   "cell_type": "markdown",
   "metadata": {},
   "source": [
    "### Solution"
   ]
  },
  {
   "cell_type": "markdown",
   "metadata": {},
   "source": [
    "PCA is a statistical procedure that uses orthogonal transformation to convert a set of maybe related values/variables into sets of values/variables of linearly unrelated values/variables called principle components.  PCA is needed to explain the variance-covariance structure of a set of values through linear combinations, it is used as a dimensionality-reduction technique.  So in other words, if we need to explain variance-covariance structure of a set of variable or reduce the dimensionality of the variables."
   ]
  },
  {
   "cell_type": "markdown",
   "metadata": {},
   "source": [
    "## Question 3 [5 Pts]\n",
    "\n",
    "How does a PCA work [Principal Component Analysis] ? "
   ]
  },
  {
   "cell_type": "markdown",
   "metadata": {},
   "source": [
    "### Solution"
   ]
  },
  {
   "cell_type": "markdown",
   "metadata": {},
   "source": [
    "PCA is a procedure that uses orthogonal transformation to convert a set of maybe related values/variables into sets of values/variables of linearly unrelated values/variables called principle components."
   ]
  },
  {
   "cell_type": "markdown",
   "metadata": {},
   "source": [
    "## Question 4 [5 Pts]\n",
    "\n",
    " What are different methods by which you can compute the PCA? Does every method will yield same result or answer at the end? "
   ]
  },
  {
   "cell_type": "markdown",
   "metadata": {},
   "source": [
    "### Solution"
   ]
  },
  {
   "cell_type": "markdown",
   "metadata": {},
   "source": [
    "Covarience Method, Iterative computation, The NIPALS method, Online/sequential estimation, each method takes in different values and will give a different output, however the output should be close to each other."
   ]
  },
  {
   "cell_type": "markdown",
   "metadata": {},
   "source": [
    "## Question 5 [5 Pts]\n",
    "\n",
    " What are advantages and disadvantages of PCA[Explain with example]? "
   ]
  },
  {
   "cell_type": "markdown",
   "metadata": {},
   "source": [
    "### Solution"
   ]
  },
  {
   "cell_type": "markdown",
   "metadata": {},
   "source": [
    "Advantage: Reduces co related features, improved visualization, performance increase.\n",
    "Disadvantage: Retained features will become principle components and comprehending this will be difficult.  The data has to be scaled and standarized before using PCA."
   ]
  },
  {
   "cell_type": "markdown",
   "metadata": {},
   "source": [
    "## Question 6 [10 Pts]\n",
    "\n",
    "What is clustering? Explain how K-Means Clustering Algorithm works?"
   ]
  },
  {
   "cell_type": "markdown",
   "metadata": {},
   "source": [
    "### Solution"
   ]
  },
  {
   "cell_type": "markdown",
   "metadata": {},
   "source": [
    "In classification, clustering is when we assign a class to each sample in the data matrix.  However, the class is not an output variable; we only use input variables.  Clustering is a unsupervised procedure, whose goal is to find homogeneous subgroups amoung the observations.  K-means clustering, the K refers to the number of clusters and must be fiixed in advance, the goal of this method is to maximize the similarity of samples within each cluster."
   ]
  },
  {
   "cell_type": "markdown",
   "metadata": {},
   "source": [
    "## Question 7 [10 Pts]\n",
    "\n",
    "What are the Advantages and disadvantages of Clustering ALgorithms discussed in our class (K-Means,Hierchal)?"
   ]
  },
  {
   "cell_type": "markdown",
   "metadata": {},
   "source": [
    "### Solution"
   ]
  },
  {
   "cell_type": "markdown",
   "metadata": {},
   "source": [
    "K-means advantages: Simple to implement, scales to  large data sets, guarantees convergence, warm-start the positions of cntroids, easily adapts to new examples, generalizes to clusters of different shapes and sizes, such as elliptical clusters.\n",
    "\n",
    "K-means disadvantages: Choosing K manually, being dependent on initial values, clustering data of varying sizes and density, clustering outliers, scaling with number of dimentions.\n",
    "\n",
    "Hierarchical advantages: Hierarchical clustering outputs a hierarchy, so it is easier to see and interpret the data, it is also easy to implement.\n",
    "\n",
    "Hierarchical disadvantages: It is not possible to undo the previous step: once the instances have been assigned to a cluster, they can no longer be moved around, Time complexity: not suitable for large datasets, Initial seeds have a strong impact on the final results, The order of the data has an impact on the final results, Very sensitive to outliers."
   ]
  },
  {
   "cell_type": "markdown",
   "metadata": {},
   "source": [
    "## Question 8 [5 Pts]\n",
    "\n",
    "Which Clustering Algorithm is better K-Means or hierarchical Clustering? Explain with a proper example which is better algorithm?\n"
   ]
  },
  {
   "cell_type": "markdown",
   "metadata": {},
   "source": [
    "### Solution"
   ]
  },
  {
   "cell_type": "markdown",
   "metadata": {},
   "source": [
    "Hierarchical clustering can't handle big data well but K-means can.  K-means time complexity is O(n) while hierarchical is O(n^2), so K-means is better at handling bigger data sets."
   ]
  },
  {
   "cell_type": "markdown",
   "metadata": {},
   "source": [
    "## Question 9 & 10 [ 50 Pts]\n",
    "\n",
    "Please Perform Principal Component Analysis and K-Means Clustering on the Give dataset Below.\n",
    "\n",
    "10 Points for Data Preprocessing.\n",
    "\n",
    "15 Points for PCA Algorithm along with plots and Results Explaination.\n",
    "\n",
    "15 Points for K-Means Algorithm with plots and Results Explination.\n",
    "\n",
    "10 Points for Comparing the results between PCA and K-Means and whats your inference from your ouputs of the algorithms.\n",
    "\n",
    "Hints:\n",
    "\n",
    "1. As per the data preprocessing step convert all the variables in the dataset into Numerical values as the algorithms only work with Numerical values \n",
    "\n",
    "2. Then Apply both algorithms one after the other then plot the ouput clusters\n",
    "\n",
    "3. Compare the output clusters in both the steps.\n"
   ]
  },
  {
   "cell_type": "markdown",
   "metadata": {},
   "source": [
    "## Bank Marketing Data Set \n",
    "\n",
    "URL: https://dataminingcsc6740.s3-us-west-2.amazonaws.com/datasets/homework_2.csv\n",
    "\n",
    "### Files Information:\n",
    "\n",
    "the homework_2.csv has all the informatiom.\n",
    "\n",
    "### Relevant Information:\n",
    "\n",
    "   The data is related with direct marketing campaigns of a Portuguese banking institution. \n",
    "   The marketing campaigns were based on phone calls. Often, more than one contact to the same client was required, \n",
    "   in order to access if the product (bank term deposit) would be (or not) subscribed. \n",
    "\n",
    "   There are two datasets: \n",
    "      1) The csv file has 4521 data points in it.\n",
    "      2) Number of Attributes: 16 + output attribute.\n",
    "\n",
    "### Attribute information:\n",
    "\n",
    "   Input variables:\n",
    "   #### bank client data:\n",
    "   \n",
    "   1 - age (numeric)\n",
    "   \n",
    "   2 - job : type of job (categorical: \n",
    "   \"admin.\",\"unknown\",\"unemployed\",\"management\",\"housemaid\",\"entrepreneur\",\"student\",\n",
    "                                       \"blue-collar\",\"self-employed\",\"retired\",\"technician\",\"services\") \n",
    "                                       \n",
    "   3 - marital : marital status (categorical: \"married\",\"divorced\",\"single\"; note: \"divorced\" means divorced or widowed)\n",
    "   \n",
    "   4 - education (categorical: \"unknown\",\"secondary\",\"primary\",\"tertiary\")\n",
    "   \n",
    "   5 - default: has credit in default? (binary: \"yes\",\"no\")\n",
    "   \n",
    "   6 - balance: average yearly balance, in euros (numeric) \n",
    "   \n",
    "   7 - housing: has housing loan? (binary: \"yes\",\"no\")\n",
    "   \n",
    "   8 - loan: has personal loan? (binary: \"yes\",\"no\")\n",
    "   \n",
    "   #### related with the last contact of the current campaign:\n",
    "   \n",
    "   9 - contact: contact communication type (categorical: \"unknown\",\"telephone\",\"cellular\") \n",
    "   \n",
    "  10 - day: last contact day of the month (numeric)\n",
    "  \n",
    "  11 - month: last contact month of year (categorical: \"jan\", \"feb\", \"mar\", ..., \"nov\", \"dec\")\n",
    "  \n",
    "  12 - duration: last contact duration, in seconds (numeric)\n",
    "  \n",
    "   #### other attributes:\n",
    "   \n",
    "  13 - campaign: number of contacts performed during this campaign and for this client (numeric, includes last contact)\n",
    "  \n",
    "  14 - pdays: number of days that passed by after the client was last contacted from a previous campaign (numeric, -1 means client was not previously contacted)\n",
    "  \n",
    "  15 - previous: number of contacts performed before this campaign and for this client (numeric)\n",
    "  \n",
    "  16 - poutcome: outcome of the previous marketing campaign (categorical: \"unknown\",\"other\",\"failure\",\"success\")\n",
    "  \n",
    "\n",
    "\n",
    "  Output variable (desired target):\n",
    "  \n",
    "  17 - y - has the client subscribed a term deposit? (binary: \"yes\",\"no\")"
   ]
  }
 ],
 "metadata": {
  "kernelspec": {
   "display_name": "Python 3",
   "language": "python",
   "name": "python3"
  },
  "language_info": {
   "codemirror_mode": {
    "name": "ipython",
    "version": 3
   },
   "file_extension": ".py",
   "mimetype": "text/x-python",
   "name": "python",
   "nbconvert_exporter": "python",
   "pygments_lexer": "ipython3",
   "version": "3.7.3"
  }
 },
 "nbformat": 4,
 "nbformat_minor": 2
}
