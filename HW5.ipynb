{
 "cells": [
  {
   "cell_type": "markdown",
   "metadata": {},
   "source": [
    "1. Bootstrapping- Resampling technique that generates many sample datasets by repeatedly sampling your data.  We use the bootstrapping method if we don't have enough data, we simply just insert a copy of the previous data, repeat until there is enough data.\n",
    "\n",
    "2. Advantages: fills the sample\n",
    "   Disadvantages: does not give any new data, you are just reusing the same data\n",
    "   \n",
    "3. Bootstrap uses replacement while cross validation does not change any of the data, bootstrapping can create multiple data sets from the original data and choose, while cross validation recreates the same exact data and choose different training and testing data\n",
    "\n",
    "4. Ensamble learning uses multiple learning algorithms to create better regression models.  Bagging or bootstrapping is reusing data from the original samples.  Bootstrapping is used when there isn't enough data in the data sets\n",
    "\n",
    "5. Support vector machines, Decision trees, regression, neural networks and K-means are some classification techniques.  Random forests can use bootstrapping and extra trees to help create multiple decision trees.  It uses regression to predict the outcome.  Bagging or bootstrapping can be used in random forests to create the next tree.  Extra trees are trained data using the learning sample (not the bootstrap sample) to split the trees and use the data of the highest scoring sample.  Since random forest is comprised of decision trees, it will have the properties of decison trees, which is having the ability to transverse through the tree based on your decisons.\n",
    "\n",
    "6. Advantages: does both classification and regression, can handle large amounts of data, good regression usages, can balance errors, can detect the data (if its a outlier etc.), uses bootstrapping so you don't need a test set\n",
    "\n",
    "   Disadvantages: cannot predict the regression beyond the training data and may overfit, it is very random so it is very hard to get the results you want as any randomness will change the output\n",
    "   \n",
    "7. Subset selection methods are Filter and Wrapper methods, filter- measure the importance of the features by their relationships to the dependent variable, wrapper- measure the usefulness of a subset by training a model on it\n",
    "\n",
    "subset selection is when you select the features of the data that you want and only use that data for your dataset/model, cross validation splits the data into k groups and select different training and testing per group/set\n",
    "\n",
    "ex. a data set of 12 features, in subset selection, you can select any of the features and only use the data from those features, lets name the features 1-12 if only the first 6 datas are relevent to your graph, then you can just select 1,2,3,4,5,6 or you can skip around 1,4,6,8,5,3, the order does not matter, however in cross validation, you will choose the k which will determine how many groups of data will be created.  lets say the k is 4 then 4 groups of data will be created within the each group of data, every single data is present and will be split differently between training and testing data.  Group 1 will have a different split, so does group 2, no 2 groups will have the same split.\n"
   ]
  },
  {
   "cell_type": "code",
   "execution_count": 1,
   "metadata": {},
   "outputs": [],
   "source": [
    "import pandas as pd\n",
    "from sklearn.linear_model import LogisticRegression\n",
    "from sklearn.model_selection import train_test_split"
   ]
  },
  {
   "cell_type": "code",
   "execution_count": 2,
   "metadata": {},
   "outputs": [],
   "source": [
    "df = pd.read_csv('random_forest_data.csv')"
   ]
  },
  {
   "cell_type": "code",
   "execution_count": 3,
   "metadata": {},
   "outputs": [
    {
     "data": {
      "text/html": [
       "<div>\n",
       "<style scoped>\n",
       "    .dataframe tbody tr th:only-of-type {\n",
       "        vertical-align: middle;\n",
       "    }\n",
       "\n",
       "    .dataframe tbody tr th {\n",
       "        vertical-align: top;\n",
       "    }\n",
       "\n",
       "    .dataframe thead th {\n",
       "        text-align: right;\n",
       "    }\n",
       "</style>\n",
       "<table border=\"1\" class=\"dataframe\">\n",
       "  <thead>\n",
       "    <tr style=\"text-align: right;\">\n",
       "      <th></th>\n",
       "      <th>Unnamed: 0</th>\n",
       "      <th>acousticness</th>\n",
       "      <th>analysis_url</th>\n",
       "      <th>danceability</th>\n",
       "      <th>duration_ms</th>\n",
       "      <th>energy</th>\n",
       "      <th>id</th>\n",
       "      <th>instrumentalness</th>\n",
       "      <th>key</th>\n",
       "      <th>liveness</th>\n",
       "      <th>loudness</th>\n",
       "      <th>mode</th>\n",
       "      <th>speechiness</th>\n",
       "      <th>tempo</th>\n",
       "      <th>time_signature</th>\n",
       "      <th>track_href</th>\n",
       "      <th>type</th>\n",
       "      <th>uri</th>\n",
       "      <th>valence</th>\n",
       "    </tr>\n",
       "  </thead>\n",
       "  <tbody>\n",
       "    <tr>\n",
       "      <th>0</th>\n",
       "      <td>0</td>\n",
       "      <td>0.40000</td>\n",
       "      <td>https://api.spotify.com/v1/audio-analysis/3AEZ...</td>\n",
       "      <td>0.761</td>\n",
       "      <td>222560</td>\n",
       "      <td>0.838</td>\n",
       "      <td>3AEZUABDXNtecAOSC1qTfo</td>\n",
       "      <td>0.000000</td>\n",
       "      <td>4</td>\n",
       "      <td>0.176</td>\n",
       "      <td>-3.073</td>\n",
       "      <td>0</td>\n",
       "      <td>0.0502</td>\n",
       "      <td>93.974</td>\n",
       "      <td>4</td>\n",
       "      <td>https://api.spotify.com/v1/tracks/3AEZUABDXNte...</td>\n",
       "      <td>audio_features</td>\n",
       "      <td>spotify:track:3AEZUABDXNtecAOSC1qTfo</td>\n",
       "      <td>0.710</td>\n",
       "    </tr>\n",
       "    <tr>\n",
       "      <th>1</th>\n",
       "      <td>1</td>\n",
       "      <td>0.18700</td>\n",
       "      <td>https://api.spotify.com/v1/audio-analysis/6mIC...</td>\n",
       "      <td>0.852</td>\n",
       "      <td>195840</td>\n",
       "      <td>0.773</td>\n",
       "      <td>6mICuAdrwEjh6Y6lroV2Kg</td>\n",
       "      <td>0.000030</td>\n",
       "      <td>8</td>\n",
       "      <td>0.159</td>\n",
       "      <td>-2.921</td>\n",
       "      <td>0</td>\n",
       "      <td>0.0776</td>\n",
       "      <td>102.034</td>\n",
       "      <td>4</td>\n",
       "      <td>https://api.spotify.com/v1/tracks/6mICuAdrwEjh...</td>\n",
       "      <td>audio_features</td>\n",
       "      <td>spotify:track:6mICuAdrwEjh6Y6lroV2Kg</td>\n",
       "      <td>0.907</td>\n",
       "    </tr>\n",
       "    <tr>\n",
       "      <th>2</th>\n",
       "      <td>2</td>\n",
       "      <td>0.05590</td>\n",
       "      <td>https://api.spotify.com/v1/audio-analysis/3QwB...</td>\n",
       "      <td>0.832</td>\n",
       "      <td>209453</td>\n",
       "      <td>0.772</td>\n",
       "      <td>3QwBODjSEzelZyVjxPOHdq</td>\n",
       "      <td>0.000486</td>\n",
       "      <td>10</td>\n",
       "      <td>0.440</td>\n",
       "      <td>-5.429</td>\n",
       "      <td>1</td>\n",
       "      <td>0.1000</td>\n",
       "      <td>96.016</td>\n",
       "      <td>4</td>\n",
       "      <td>https://api.spotify.com/v1/tracks/3QwBODjSEzel...</td>\n",
       "      <td>audio_features</td>\n",
       "      <td>spotify:track:3QwBODjSEzelZyVjxPOHdq</td>\n",
       "      <td>0.704</td>\n",
       "    </tr>\n",
       "    <tr>\n",
       "      <th>3</th>\n",
       "      <td>3</td>\n",
       "      <td>0.00431</td>\n",
       "      <td>https://api.spotify.com/v1/audio-analysis/7DM4...</td>\n",
       "      <td>0.663</td>\n",
       "      <td>259196</td>\n",
       "      <td>0.920</td>\n",
       "      <td>7DM4BPaS7uofFul3ywMe46</td>\n",
       "      <td>0.000017</td>\n",
       "      <td>11</td>\n",
       "      <td>0.101</td>\n",
       "      <td>-4.070</td>\n",
       "      <td>0</td>\n",
       "      <td>0.2260</td>\n",
       "      <td>99.935</td>\n",
       "      <td>4</td>\n",
       "      <td>https://api.spotify.com/v1/tracks/7DM4BPaS7uof...</td>\n",
       "      <td>audio_features</td>\n",
       "      <td>spotify:track:7DM4BPaS7uofFul3ywMe46</td>\n",
       "      <td>0.533</td>\n",
       "    </tr>\n",
       "    <tr>\n",
       "      <th>4</th>\n",
       "      <td>4</td>\n",
       "      <td>0.55100</td>\n",
       "      <td>https://api.spotify.com/v1/audio-analysis/6rQS...</td>\n",
       "      <td>0.508</td>\n",
       "      <td>205600</td>\n",
       "      <td>0.687</td>\n",
       "      <td>6rQSrBHf7HlZjtcMZ4S4bO</td>\n",
       "      <td>0.000003</td>\n",
       "      <td>0</td>\n",
       "      <td>0.126</td>\n",
       "      <td>-4.361</td>\n",
       "      <td>1</td>\n",
       "      <td>0.3260</td>\n",
       "      <td>180.044</td>\n",
       "      <td>4</td>\n",
       "      <td>https://api.spotify.com/v1/tracks/6rQSrBHf7HlZ...</td>\n",
       "      <td>audio_features</td>\n",
       "      <td>spotify:track:6rQSrBHf7HlZjtcMZ4S4bO</td>\n",
       "      <td>0.555</td>\n",
       "    </tr>\n",
       "  </tbody>\n",
       "</table>\n",
       "</div>"
      ],
      "text/plain": [
       "   Unnamed: 0  acousticness  \\\n",
       "0           0       0.40000   \n",
       "1           1       0.18700   \n",
       "2           2       0.05590   \n",
       "3           3       0.00431   \n",
       "4           4       0.55100   \n",
       "\n",
       "                                        analysis_url  danceability  \\\n",
       "0  https://api.spotify.com/v1/audio-analysis/3AEZ...         0.761   \n",
       "1  https://api.spotify.com/v1/audio-analysis/6mIC...         0.852   \n",
       "2  https://api.spotify.com/v1/audio-analysis/3QwB...         0.832   \n",
       "3  https://api.spotify.com/v1/audio-analysis/7DM4...         0.663   \n",
       "4  https://api.spotify.com/v1/audio-analysis/6rQS...         0.508   \n",
       "\n",
       "   duration_ms  energy                      id  instrumentalness  key  \\\n",
       "0       222560   0.838  3AEZUABDXNtecAOSC1qTfo          0.000000    4   \n",
       "1       195840   0.773  6mICuAdrwEjh6Y6lroV2Kg          0.000030    8   \n",
       "2       209453   0.772  3QwBODjSEzelZyVjxPOHdq          0.000486   10   \n",
       "3       259196   0.920  7DM4BPaS7uofFul3ywMe46          0.000017   11   \n",
       "4       205600   0.687  6rQSrBHf7HlZjtcMZ4S4bO          0.000003    0   \n",
       "\n",
       "   liveness  loudness  mode  speechiness    tempo  time_signature  \\\n",
       "0     0.176    -3.073     0       0.0502   93.974               4   \n",
       "1     0.159    -2.921     0       0.0776  102.034               4   \n",
       "2     0.440    -5.429     1       0.1000   96.016               4   \n",
       "3     0.101    -4.070     0       0.2260   99.935               4   \n",
       "4     0.126    -4.361     1       0.3260  180.044               4   \n",
       "\n",
       "                                          track_href            type  \\\n",
       "0  https://api.spotify.com/v1/tracks/3AEZUABDXNte...  audio_features   \n",
       "1  https://api.spotify.com/v1/tracks/6mICuAdrwEjh...  audio_features   \n",
       "2  https://api.spotify.com/v1/tracks/3QwBODjSEzel...  audio_features   \n",
       "3  https://api.spotify.com/v1/tracks/7DM4BPaS7uof...  audio_features   \n",
       "4  https://api.spotify.com/v1/tracks/6rQSrBHf7HlZ...  audio_features   \n",
       "\n",
       "                                    uri  valence  \n",
       "0  spotify:track:3AEZUABDXNtecAOSC1qTfo    0.710  \n",
       "1  spotify:track:6mICuAdrwEjh6Y6lroV2Kg    0.907  \n",
       "2  spotify:track:3QwBODjSEzelZyVjxPOHdq    0.704  \n",
       "3  spotify:track:7DM4BPaS7uofFul3ywMe46    0.533  \n",
       "4  spotify:track:6rQSrBHf7HlZjtcMZ4S4bO    0.555  "
      ]
     },
     "execution_count": 3,
     "metadata": {},
     "output_type": "execute_result"
    }
   ],
   "source": [
    "df.head()"
   ]
  },
  {
   "cell_type": "code",
   "execution_count": 4,
   "metadata": {},
   "outputs": [
    {
     "data": {
      "text/plain": [
       "Index(['Unnamed: 0', 'acousticness', 'analysis_url', 'danceability',\n",
       "       'duration_ms', 'energy', 'id', 'instrumentalness', 'key', 'liveness',\n",
       "       'loudness', 'mode', 'speechiness', 'tempo', 'time_signature',\n",
       "       'track_href', 'type', 'uri', 'valence'],\n",
       "      dtype='object')"
      ]
     },
     "execution_count": 4,
     "metadata": {},
     "output_type": "execute_result"
    }
   ],
   "source": [
    "df.columns"
   ]
  },
  {
   "cell_type": "code",
   "execution_count": 5,
   "metadata": {},
   "outputs": [],
   "source": [
    "df = df.drop({'analysis_url', 'id','Unnamed: 0','track_href','type', 'uri'},axis = 1)"
   ]
  },
  {
   "cell_type": "code",
   "execution_count": 6,
   "metadata": {},
   "outputs": [
    {
     "data": {
      "text/html": [
       "<div>\n",
       "<style scoped>\n",
       "    .dataframe tbody tr th:only-of-type {\n",
       "        vertical-align: middle;\n",
       "    }\n",
       "\n",
       "    .dataframe tbody tr th {\n",
       "        vertical-align: top;\n",
       "    }\n",
       "\n",
       "    .dataframe thead th {\n",
       "        text-align: right;\n",
       "    }\n",
       "</style>\n",
       "<table border=\"1\" class=\"dataframe\">\n",
       "  <thead>\n",
       "    <tr style=\"text-align: right;\">\n",
       "      <th></th>\n",
       "      <th>acousticness</th>\n",
       "      <th>danceability</th>\n",
       "      <th>duration_ms</th>\n",
       "      <th>energy</th>\n",
       "      <th>instrumentalness</th>\n",
       "      <th>key</th>\n",
       "      <th>liveness</th>\n",
       "      <th>loudness</th>\n",
       "      <th>mode</th>\n",
       "      <th>speechiness</th>\n",
       "      <th>tempo</th>\n",
       "      <th>time_signature</th>\n",
       "      <th>valence</th>\n",
       "    </tr>\n",
       "  </thead>\n",
       "  <tbody>\n",
       "    <tr>\n",
       "      <th>0</th>\n",
       "      <td>0.40000</td>\n",
       "      <td>0.761</td>\n",
       "      <td>222560</td>\n",
       "      <td>0.838</td>\n",
       "      <td>0.000000</td>\n",
       "      <td>4</td>\n",
       "      <td>0.176</td>\n",
       "      <td>-3.073</td>\n",
       "      <td>0</td>\n",
       "      <td>0.0502</td>\n",
       "      <td>93.974</td>\n",
       "      <td>4</td>\n",
       "      <td>0.710</td>\n",
       "    </tr>\n",
       "    <tr>\n",
       "      <th>1</th>\n",
       "      <td>0.18700</td>\n",
       "      <td>0.852</td>\n",
       "      <td>195840</td>\n",
       "      <td>0.773</td>\n",
       "      <td>0.000030</td>\n",
       "      <td>8</td>\n",
       "      <td>0.159</td>\n",
       "      <td>-2.921</td>\n",
       "      <td>0</td>\n",
       "      <td>0.0776</td>\n",
       "      <td>102.034</td>\n",
       "      <td>4</td>\n",
       "      <td>0.907</td>\n",
       "    </tr>\n",
       "    <tr>\n",
       "      <th>2</th>\n",
       "      <td>0.05590</td>\n",
       "      <td>0.832</td>\n",
       "      <td>209453</td>\n",
       "      <td>0.772</td>\n",
       "      <td>0.000486</td>\n",
       "      <td>10</td>\n",
       "      <td>0.440</td>\n",
       "      <td>-5.429</td>\n",
       "      <td>1</td>\n",
       "      <td>0.1000</td>\n",
       "      <td>96.016</td>\n",
       "      <td>4</td>\n",
       "      <td>0.704</td>\n",
       "    </tr>\n",
       "    <tr>\n",
       "      <th>3</th>\n",
       "      <td>0.00431</td>\n",
       "      <td>0.663</td>\n",
       "      <td>259196</td>\n",
       "      <td>0.920</td>\n",
       "      <td>0.000017</td>\n",
       "      <td>11</td>\n",
       "      <td>0.101</td>\n",
       "      <td>-4.070</td>\n",
       "      <td>0</td>\n",
       "      <td>0.2260</td>\n",
       "      <td>99.935</td>\n",
       "      <td>4</td>\n",
       "      <td>0.533</td>\n",
       "    </tr>\n",
       "    <tr>\n",
       "      <th>4</th>\n",
       "      <td>0.55100</td>\n",
       "      <td>0.508</td>\n",
       "      <td>205600</td>\n",
       "      <td>0.687</td>\n",
       "      <td>0.000003</td>\n",
       "      <td>0</td>\n",
       "      <td>0.126</td>\n",
       "      <td>-4.361</td>\n",
       "      <td>1</td>\n",
       "      <td>0.3260</td>\n",
       "      <td>180.044</td>\n",
       "      <td>4</td>\n",
       "      <td>0.555</td>\n",
       "    </tr>\n",
       "  </tbody>\n",
       "</table>\n",
       "</div>"
      ],
      "text/plain": [
       "   acousticness  danceability  duration_ms  energy  instrumentalness  key  \\\n",
       "0       0.40000         0.761       222560   0.838          0.000000    4   \n",
       "1       0.18700         0.852       195840   0.773          0.000030    8   \n",
       "2       0.05590         0.832       209453   0.772          0.000486   10   \n",
       "3       0.00431         0.663       259196   0.920          0.000017   11   \n",
       "4       0.55100         0.508       205600   0.687          0.000003    0   \n",
       "\n",
       "   liveness  loudness  mode  speechiness    tempo  time_signature  valence  \n",
       "0     0.176    -3.073     0       0.0502   93.974               4    0.710  \n",
       "1     0.159    -2.921     0       0.0776  102.034               4    0.907  \n",
       "2     0.440    -5.429     1       0.1000   96.016               4    0.704  \n",
       "3     0.101    -4.070     0       0.2260   99.935               4    0.533  \n",
       "4     0.126    -4.361     1       0.3260  180.044               4    0.555  "
      ]
     },
     "execution_count": 6,
     "metadata": {},
     "output_type": "execute_result"
    }
   ],
   "source": [
    "df.head()"
   ]
  },
  {
   "cell_type": "code",
   "execution_count": 7,
   "metadata": {},
   "outputs": [
    {
     "data": {
      "text/plain": [
       "Index(['acousticness', 'danceability', 'duration_ms', 'energy',\n",
       "       'instrumentalness', 'key', 'liveness', 'loudness', 'mode',\n",
       "       'speechiness', 'tempo', 'time_signature', 'valence'],\n",
       "      dtype='object')"
      ]
     },
     "execution_count": 7,
     "metadata": {},
     "output_type": "execute_result"
    }
   ],
   "source": [
    "df.columns"
   ]
  },
  {
   "cell_type": "code",
   "execution_count": 8,
   "metadata": {},
   "outputs": [],
   "source": [
    "x = df[['acousticness', 'danceability', 'duration_ms', 'energy',\n",
    "       'instrumentalness', 'key', 'liveness', 'loudness', 'mode',\n",
    "       'speechiness', 'tempo', 'time_signature']]\n",
    "y = df['valence']\n",
    "x_train, x_test, y_train, y_test = train_test_split(x,y, test_size = 0.3)"
   ]
  },
  {
   "cell_type": "code",
   "execution_count": 9,
   "metadata": {},
   "outputs": [
    {
     "data": {
      "text/plain": [
       "RandomForestRegressor(bootstrap=True, criterion='mse', max_depth=None,\n",
       "                      max_features='auto', max_leaf_nodes=None,\n",
       "                      min_impurity_decrease=0.0, min_impurity_split=None,\n",
       "                      min_samples_leaf=1, min_samples_split=2,\n",
       "                      min_weight_fraction_leaf=0.0, n_estimators=15,\n",
       "                      n_jobs=None, oob_score=False, random_state=2, verbose=0,\n",
       "                      warm_start=False)"
      ]
     },
     "execution_count": 9,
     "metadata": {},
     "output_type": "execute_result"
    }
   ],
   "source": [
    "from sklearn.ensemble import RandomForestRegressor\n",
    "\n",
    "regressor = RandomForestRegressor(n_estimators=15, random_state=2)\n",
    "regressor.fit(x_train, y_train)"
   ]
  },
  {
   "cell_type": "code",
   "execution_count": 10,
   "metadata": {},
   "outputs": [],
   "source": [
    "y_pred=regressor.predict(x_test)"
   ]
  },
  {
   "cell_type": "code",
   "execution_count": 11,
   "metadata": {},
   "outputs": [],
   "source": [
    "score = regressor.score(x_test,y_test)"
   ]
  },
  {
   "cell_type": "code",
   "execution_count": 12,
   "metadata": {},
   "outputs": [
    {
     "data": {
      "text/plain": [
       "array([0.555])"
      ]
     },
     "execution_count": 12,
     "metadata": {},
     "output_type": "execute_result"
    }
   ],
   "source": [
    "regressor.predict([[0.55100,0.508,205600,0.687,0.000003,0,0.126,-4.361,1,0.3260,180.044,4]])"
   ]
  },
  {
   "cell_type": "code",
   "execution_count": 13,
   "metadata": {},
   "outputs": [
    {
     "data": {
      "text/plain": [
       "energy              0.267991\n",
       "danceability        0.223445\n",
       "tempo               0.108127\n",
       "acousticness        0.106295\n",
       "speechiness         0.072773\n",
       "duration_ms         0.070857\n",
       "loudness            0.051486\n",
       "liveness            0.045291\n",
       "instrumentalness    0.031478\n",
       "key                 0.015061\n",
       "mode                0.007082\n",
       "time_signature      0.000114\n",
       "dtype: float64"
      ]
     },
     "execution_count": 13,
     "metadata": {},
     "output_type": "execute_result"
    }
   ],
   "source": [
    "feature_imp = pd.Series(regressor.feature_importances_,index= x.columns).sort_values(ascending=False)\n",
    "feature_imp"
   ]
  },
  {
   "cell_type": "code",
   "execution_count": 14,
   "metadata": {},
   "outputs": [
    {
     "name": "stderr",
     "output_type": "stream",
     "text": [
      "No handles with labels found to put in legend.\n"
     ]
    },
    {
     "data": {
      "image/png": "[encoded data removed]",
      "text/plain": [
       "<Figure size 432x288 with 1 Axes>"
      ]
     },
     "metadata": {
      "needs_background": "light"
     },
     "output_type": "display_data"
    }
   ],
   "source": [
    "import matplotlib.pyplot as plt\n",
    "import seaborn as sns\n",
    "%matplotlib inline\n",
    "sns.barplot(x=feature_imp, y=feature_imp.index)\n",
    "plt.xlabel('Feature Importance Score')\n",
    "plt.ylabel('Features')\n",
    "plt.title(\"Visualizing Important Features\")\n",
    "plt.legend()\n",
    "plt.show()"
   ]
  },
  {
   "cell_type": "code",
   "execution_count": 15,
   "metadata": {},
   "outputs": [
    {
     "name": "stdout",
     "output_type": "stream",
     "text": [
      "Accuracy:  0.9959087727457138\n"
     ]
    }
   ],
   "source": [
    "print('Accuracy: ',score) #with a test size of .3"
   ]
  },
  {
   "cell_type": "code",
   "execution_count": 16,
   "metadata": {},
   "outputs": [],
   "source": [
    "#this graph tells us how important each feature is towards the valence ranking from top to bottom"
   ]
  },
  {
   "cell_type": "code",
   "execution_count": 17,
   "metadata": {},
   "outputs": [],
   "source": [
    "x_cv, x_test, y_cv, y_test = train_test_split(x_test, y_test, test_size=0.5, random_state=10)"
   ]
  },
  {
   "cell_type": "code",
   "execution_count": 18,
   "metadata": {},
   "outputs": [
    {
     "data": {
      "text/plain": [
       "RandomForestRegressor(bootstrap=True, criterion='mse', max_depth=None,\n",
       "                      max_features='auto', max_leaf_nodes=None,\n",
       "                      min_impurity_decrease=0.0, min_impurity_split=None,\n",
       "                      min_samples_leaf=1, min_samples_split=2,\n",
       "                      min_weight_fraction_leaf=0.0, n_estimators=15,\n",
       "                      n_jobs=None, oob_score=False, random_state=2, verbose=0,\n",
       "                      warm_start=False)"
      ]
     },
     "execution_count": 18,
     "metadata": {},
     "output_type": "execute_result"
    }
   ],
   "source": [
    "regressor.fit(x_cv, y_cv)"
   ]
  },
  {
   "cell_type": "code",
   "execution_count": 19,
   "metadata": {},
   "outputs": [],
   "source": [
    "y_pred=regressor.predict(x_cv)\n",
    "score2 = regressor.score(x_cv,y_cv)"
   ]
  },
  {
   "cell_type": "code",
   "execution_count": 20,
   "metadata": {},
   "outputs": [
    {
     "name": "stdout",
     "output_type": "stream",
     "text": [
      "Accuracy:  0.9976266882152395\n"
     ]
    }
   ],
   "source": [
    "print('Accuracy: ',score2) #with a test size of .5"
   ]
  },
  {
   "cell_type": "code",
   "execution_count": 21,
   "metadata": {},
   "outputs": [],
   "source": [
    "from sklearn.model_selection import KFold\n",
    "from sklearn.preprocessing import MinMaxScaler\n",
    "from sklearn.svm import SVR"
   ]
  },
  {
   "cell_type": "code",
   "execution_count": 22,
   "metadata": {},
   "outputs": [],
   "source": [
    "X = x"
   ]
  },
  {
   "cell_type": "code",
   "execution_count": 23,
   "metadata": {},
   "outputs": [],
   "source": [
    "scaler = MinMaxScaler(feature_range=(0, 1))\n",
    "X = scaler.fit_transform(X)"
   ]
  },
  {
   "cell_type": "code",
   "execution_count": 24,
   "metadata": {},
   "outputs": [
    {
     "name": "stdout",
     "output_type": "stream",
     "text": [
      "Train Index:  [ 3790  3791  3792 ... 75797 75798 75799] \n",
      "\n",
      "Test Index:  [   0    1    2 ... 3787 3788 3789]\n",
      "Accuracy:  0.1401290806104254\n",
      "Train Index:  [    0     1     2 ... 75797 75798 75799] \n",
      "\n",
      "Test Index:  [3790 3791 3792 ... 7577 7578 7579]\n",
      "Accuracy:  0.14142250600874595\n",
      "Train Index:  [    0     1     2 ... 75797 75798 75799] \n",
      "\n",
      "Test Index:  [ 7580  7581  7582 ... 11367 11368 11369]\n",
      "Accuracy:  0.14017377617778193\n",
      "Train Index:  [    0     1     2 ... 75797 75798 75799] \n",
      "\n",
      "Test Index:  [11370 11371 11372 ... 15157 15158 15159]\n",
      "Accuracy:  0.1385104626389504\n",
      "Train Index:  [    0     1     2 ... 75797 75798 75799] \n",
      "\n",
      "Test Index:  [15160 15161 15162 ... 18947 18948 18949]\n",
      "Accuracy:  0.1401037819119939\n",
      "Train Index:  [    0     1     2 ... 75797 75798 75799] \n",
      "\n",
      "Test Index:  [18950 18951 18952 ... 22737 22738 22739]\n",
      "Accuracy:  0.1394982567656602\n",
      "Train Index:  [    0     1     2 ... 75797 75798 75799] \n",
      "\n",
      "Test Index:  [22740 22741 22742 ... 26527 26528 26529]\n",
      "Accuracy:  0.1415671751174301\n",
      "Train Index:  [    0     1     2 ... 75797 75798 75799] \n",
      "\n",
      "Test Index:  [26530 26531 26532 ... 30317 30318 30319]\n",
      "Accuracy:  0.14299882076212334\n",
      "Train Index:  [    0     1     2 ... 75797 75798 75799] \n",
      "\n",
      "Test Index:  [30320 30321 30322 ... 34107 34108 34109]\n",
      "Accuracy:  0.14122137572599847\n",
      "Train Index:  [    0     1     2 ... 75797 75798 75799] \n",
      "\n",
      "Test Index:  [34110 34111 34112 ... 37897 37898 37899]\n",
      "Accuracy:  0.14243967594924867\n",
      "Train Index:  [    0     1     2 ... 75797 75798 75799] \n",
      "\n",
      "Test Index:  [37900 37901 37902 ... 41687 41688 41689]\n",
      "Accuracy:  0.14076647075207838\n",
      "Train Index:  [    0     1     2 ... 75797 75798 75799] \n",
      "\n",
      "Test Index:  [41690 41691 41692 ... 45477 45478 45479]\n",
      "Accuracy:  0.1404051185227858\n",
      "Train Index:  [    0     1     2 ... 75797 75798 75799] \n",
      "\n",
      "Test Index:  [45480 45481 45482 ... 49267 49268 49269]\n",
      "Accuracy:  0.13955393727697285\n",
      "Train Index:  [    0     1     2 ... 75797 75798 75799] \n",
      "\n",
      "Test Index:  [49270 49271 49272 ... 53057 53058 53059]\n",
      "Accuracy:  0.13875229008917067\n",
      "Train Index:  [    0     1     2 ... 75797 75798 75799] \n",
      "\n",
      "Test Index:  [53060 53061 53062 ... 56847 56848 56849]\n",
      "Accuracy:  0.13945110445200493\n",
      "Train Index:  [    0     1     2 ... 75797 75798 75799] \n",
      "\n",
      "Test Index:  [56850 56851 56852 ... 60637 60638 60639]\n",
      "Accuracy:  0.1384128610562244\n",
      "Train Index:  [    0     1     2 ... 75797 75798 75799] \n",
      "\n",
      "Test Index:  [60640 60641 60642 ... 64427 64428 64429]\n",
      "Accuracy:  0.14004337343413764\n",
      "Train Index:  [    0     1     2 ... 75797 75798 75799] \n",
      "\n",
      "Test Index:  [64430 64431 64432 ... 68217 68218 68219]\n",
      "Accuracy:  0.13903915957682433\n",
      "Train Index:  [    0     1     2 ... 75797 75798 75799] \n",
      "\n",
      "Test Index:  [68220 68221 68222 ... 72007 72008 72009]\n",
      "Accuracy:  0.13878783441534748\n",
      "Train Index:  [    0     1     2 ... 72007 72008 72009] \n",
      "\n",
      "Test Index:  [72010 72011 72012 ... 75797 75798 75799]\n",
      "Accuracy:  0.13983501808454235\n"
     ]
    }
   ],
   "source": [
    "cv = KFold(n_splits=20, random_state=9, shuffle=False)\n",
    "for train_index, test_index in cv.split(X):\n",
    "    print(\"Train Index: \", train_index, \"\\n\")\n",
    "    print(\"Test Index: \", test_index)\n",
    "    print(\"Accuracy: \",regressor.score(X[train_index],y[train_index]))\n",
    "\n",
    "    X_train, X_test, y_train, y_test = X[train_index], X[test_index], y[train_index], y[test_index]"
   ]
  },
  {
   "cell_type": "code",
   "execution_count": null,
   "metadata": {},
   "outputs": [],
   "source": [
    "#The best model is the one in the middle"
   ]
  }
 ],
 "metadata": {
  "kernelspec": {
   "display_name": "Python 3",
   "language": "python",
   "name": "python3"
  },
  "language_info": {
   "codemirror_mode": {
    "name": "ipython",
    "version": 3
   },
   "file_extension": ".py",
   "mimetype": "text/x-python",
   "name": "python",
   "nbconvert_exporter": "python",
   "pygments_lexer": "ipython3",
   "version": "3.7.3"
  }
 },
 "nbformat": 4,
 "nbformat_minor": 2
}
